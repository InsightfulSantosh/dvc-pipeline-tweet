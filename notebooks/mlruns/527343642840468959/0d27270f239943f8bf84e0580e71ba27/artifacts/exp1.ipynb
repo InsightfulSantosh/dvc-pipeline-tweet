{
  "cells": [
    {
      "cell_type": "markdown",
      "metadata": {
        "id": "S5_k7E2IRGOg"
      },
      "source": [
        "## **Data Ingestion:**\n",
        "\n"
      ]
    },
    {
      "cell_type": "code",
      "execution_count": null,
      "metadata": {
        "id": "ZAvDnq1Fafg_"
      },
      "outputs": [],
      "source": [
        "import pandas as pd\n",
        "import numpy as np\n",
        "import os\n",
        "from sklearn.model_selection import train_test_split\n",
        "\n",
        "# Define BASE_FOLDER globally\n",
        "BASE_FOLDER = \"data\"\n",
        "\n",
        "def make_dir():\n",
        "    \"\"\"Creates required directories if they don't exist.\"\"\"\n",
        "    sub_dirs = [\"raw\", \"raw/train\", \"raw/test\"]  # Fixed missing comma\n",
        "    for sub in sub_dirs:\n",
        "        os.makedirs(os.path.join(BASE_FOLDER, sub), exist_ok=True)\n",
        "\n",
        "def load_data(url):\n",
        "    \"\"\"Loads data from the provided URL.\"\"\"\n",
        "    return pd.read_csv(url)\n",
        "\n",
        "def processing(df):\n",
        "    \"\"\"Filters, maps sentiment values, and shuffles data.\"\"\"\n",
        "    return (\n",
        "        df[df[\"sentiment\"].isin([\"happiness\", \"sadness\"])]\n",
        "        .drop(columns=[\"tweet_id\"], errors=\"ignore\")  # Avoid KeyError if column is missing\n",
        "        .assign(sentiment=lambda x: x[\"sentiment\"].map({\"happiness\": 1, \"sadness\": 0}))\n",
        "        .sample(frac=1, random_state=42)  # Shuffle the data\n",
        "    )\n",
        "\n",
        "def save_data(final_df):\n",
        "    \"\"\"Splits data into train and test sets and saves them.\"\"\"\n",
        "    train_df, test_df = train_test_split(final_df, test_size=0.2, random_state=42)\n",
        "\n",
        "    train_df.to_csv(os.path.join(BASE_FOLDER, \"raw/train\", \"train.csv\"), index=False)\n",
        "    test_df.to_csv(os.path.join(BASE_FOLDER, \"raw/test\", \"test.csv\"), index=False)\n",
        "\n",
        "def main():\n",
        "    make_dir()\n",
        "    url = \"https://raw.githubusercontent.com/campusx-official/jupyter-masterclass/main/tweet_emotions.csv\"\n",
        "\n",
        "    df = load_data(url)\n",
        "    final_df = processing(df)\n",
        "    save_data(final_df)\n",
        "\n",
        "if __name__ == \"__main__\":\n",
        "    main()\n"
      ]
    },
    {
      "cell_type": "markdown",
      "metadata": {
        "id": "vuy9n-NPRNPH"
      },
      "source": [
        "## **Data cleaning:**"
      ]
    },
    {
      "cell_type": "code",
      "execution_count": null,
      "metadata": {
        "colab": {
          "base_uri": "https://localhost:8080/"
        },
        "id": "FaMZdSnguggL",
        "outputId": "41ef6daa-8108-475c-9126-d3f8004f44f9"
      },
      "outputs": [],
      "source": [
        "import re\n",
        "# NLTK for natural language processing\n",
        "import nltk\n",
        "from nltk.corpus import stopwords    # For stopwords\n",
        "from nltk.tokenize import word_tokenize # For tokenization\n",
        "from nltk.stem import PorterStemmer, WordNetLemmatizer # For stemming and lemmatization\n",
        "\n",
        "# Downloading NLTK data\n",
        "nltk.download('stopwords')   # Downloading stopwords data\n",
        "nltk.download('punkt')       # Downloading tokenizer data\n",
        "nltk.download('wordnet')     # Downloading WordNet data for lemmatization"
      ]
    },
    {
      "cell_type": "code",
      "execution_count": null,
      "metadata": {
        "id": "s2HzrgqDTYdA"
      },
      "outputs": [],
      "source": [
        "\n",
        "\n",
        "def data_cleaning(text_series):\n",
        "    \"\"\"Cleans the text data by removing URLs, emails, numbers, and punctuation.\"\"\"\n",
        "    number_pattern = r\"(?<=\\D)\\d+|\\d+(?=\\D)\"  # Removes numbers but keeps letters\n",
        "    url_pattern = r\"https?://\\S+|www\\.\\S+\"\n",
        "    email_pattern = r\"\\b[A-Za-z0-9._%+-]+@[A-Za-z0-9.-]+\\.[A-Za-z]{2,}\\b\"\n",
        "    punctuation_pattern = r\"[^\\w\\s]\"\n",
        "\n",
        "    return (\n",
        "        text_series.astype(str)  # Ensure text is string\n",
        "        .str.lower()\n",
        "        .str.replace(url_pattern, \" \", regex=True)\n",
        "        .str.replace(email_pattern, \" \", regex=True)\n",
        "        .str.replace(number_pattern, \" \", regex=True)\n",
        "        .str.replace(punctuation_pattern, \" \", regex=True)\n",
        "        .str.strip()\n",
        "        .str.replace(r\"\\s+\", \" \", regex=True)  # Normalize spaces\n",
        "    )\n",
        "\n",
        "def remove_short_words(text_series, min_length=3):\n",
        "    \"\"\"Removes words shorter than `min_length` characters.\"\"\"\n",
        "    return text_series.apply(lambda x: \" \".join([word for word in x.split() if len(word) >= min_length]))\n",
        "\n",
        "def lemmatization(text_series):\n",
        "    \"\"\"Lemmatizes words using WordNetLemmatizer.\"\"\"\n",
        "    lemmatizer = WordNetLemmatizer()\n",
        "    return text_series.apply(lambda x: \" \".join([lemmatizer.lemmatize(word, pos=\"v\") for word in x.split()]))\n",
        "\n",
        "def remove_stopwords(text_series):\n",
        "    \"\"\"Removes stopwords from text.\"\"\"\n",
        "    stop_words = frozenset(stopwords.words(\"english\"))  # Faster lookup\n",
        "    return text_series.apply(lambda x: \" \".join([word for word in x.split() if word not in stop_words]))\n",
        "\n",
        "def normalize(df):\n",
        "    \"\"\"Applies text preprocessing steps.\"\"\"\n",
        "    df[\"content\"] = data_cleaning(df[\"content\"])\n",
        "    df[\"content\"] = remove_short_words(df[\"content\"])\n",
        "    df[\"content\"] = lemmatization(df[\"content\"])\n",
        "    df[\"content\"] = remove_stopwords(df[\"content\"])\n",
        "    return df\n",
        "\n",
        "def main():\n",
        "    train_data = pd.read_csv(\"/content/data/raw/train/train.csv\")\n",
        "    test_data = pd.read_csv(\"/content/data/raw/test/test.csv\")\n",
        "\n",
        "    # Transform the data\n",
        "    train_processed_data = normalize(train_data)\n",
        "    test_processed_data = normalize(test_data)\n",
        "\n",
        "    # Store the data inside data/processed\n",
        "    data_path = os.path.join(\"./data\", \"interim\")\n",
        "    os.makedirs(data_path, exist_ok=True)\n",
        "\n",
        "    train_processed_data.to_csv(os.path.join(data_path, \"train_processed.csv\"), index=False)\n",
        "    test_processed_data.to_csv(os.path.join(data_path, \"test_processed.csv\"), index=False)\n",
        "\n",
        "\n",
        "if __name__ == \"__main__\":\n",
        "    main()\n"
      ]
    },
    {
      "cell_type": "markdown",
      "metadata": {
        "id": "bqvjo-ln_gvT"
      },
      "source": [
        "## **Feature Engineering:**"
      ]
    },
    {
      "cell_type": "code",
      "execution_count": null,
      "metadata": {
        "id": "IuqHJGIk5yJW"
      },
      "outputs": [],
      "source": []
    },
    {
      "cell_type": "code",
      "execution_count": null,
      "metadata": {
        "colab": {
          "base_uri": "https://localhost:8080/"
        },
        "id": "ks3cIhbicplZ",
        "outputId": "47b6b37c-e0aa-415e-a4cd-3c5a6e64f71a"
      },
      "outputs": [],
      "source": [
        "import pickle\n",
        "import pandas as pd\n",
        "import os\n",
        "import logging\n",
        "import yaml\n",
        "from sklearn.feature_extraction.text import CountVectorizer\n",
        "\n",
        "# Set up logger\n",
        "logger = logging.getLogger(\"feature_engineering\")\n",
        "logger.setLevel(logging.DEBUG)\n",
        "\n",
        "# Remove existing handlers to avoid duplicates\n",
        "if logger.hasHandlers():\n",
        "    logger.handlers.clear()\n",
        "\n",
        "# Define log file path\n",
        "os.makedirs(\"logs\", exist_ok=True)\n",
        "log_file_path = \"logs/feature_engineering.log\"\n",
        "\n",
        "# Delete the log file if it exists\n",
        "if os.path.exists(log_file_path):\n",
        "    os.remove(log_file_path)\n",
        "\n",
        "# FileHandler to log messages to a file\n",
        "file_handler = logging.FileHandler(log_file_path)\n",
        "file_handler.setLevel(logging.DEBUG)\n",
        "\n",
        "# ConsoleHandler to log messages to the console\n",
        "console_handler = logging.StreamHandler()\n",
        "console_handler.setLevel(logging.DEBUG)\n",
        "\n",
        "# Create a formatter and attach it to the handlers\n",
        "formatter = logging.Formatter('%(asctime)s - %(name)s - %(levelname)s - %(message)s')\n",
        "file_handler.setFormatter(formatter)\n",
        "console_handler.setFormatter(formatter)\n",
        "\n",
        "# Add handlers to the logger\n",
        "logger.addHandler(file_handler)\n",
        "logger.addHandler(console_handler)\n",
        "\n",
        "def load_params(params_path: str) -> dict:\n",
        "    \"\"\"Load parameters from a YAML file.\"\"\"\n",
        "    try:\n",
        "        with open(params_path, \"r\") as file:\n",
        "            params = yaml.safe_load(file)\n",
        "            if params is None:\n",
        "                raise ValueError(f\"YAML file {params_path} is empty or invalid.\")\n",
        "        logger.debug(\"Parameters retrieved from %s\", params_path)\n",
        "        return params\n",
        "    except FileNotFoundError:\n",
        "        logger.error(\"File not found: %s\", params_path)\n",
        "        raise\n",
        "    except yaml.YAMLError as e:\n",
        "        logger.error(\"YAML error: %s\", e)\n",
        "        raise\n",
        "    except Exception as e:\n",
        "        logger.error(\"Unexpected error: %s\", e)\n",
        "        raise\n",
        "\n",
        "def load_data(path: str) -> pd.DataFrame:\n",
        "    \"\"\"Load data from a CSV file.\"\"\"\n",
        "    try:\n",
        "        df = pd.read_csv(path)\n",
        "        df.fillna(\"\", inplace=True)\n",
        "        logger.debug(\"Data loaded successfully from %s\", path)\n",
        "        return df\n",
        "    except FileNotFoundError:\n",
        "        logger.error(\"File not found: %s\", path)\n",
        "        raise\n",
        "    except Exception as e:\n",
        "        logger.error(\"Error loading file %s: %s\", path, e)\n",
        "        raise\n",
        "\n",
        "def bow(train: pd.DataFrame, test: pd.DataFrame, max_feature: int):\n",
        "    \"\"\"Perform Bag-of-Words transformation.\"\"\"\n",
        "    try:\n",
        "        x_train = train[\"content\"].values\n",
        "        y_train = train[\"sentiment\"].values\n",
        "        x_test = test[\"content\"].values\n",
        "        y_test = test[\"sentiment\"].values\n",
        "\n",
        "        vectorizer = CountVectorizer(max_features=max_feature)\n",
        "        x_train_bow = vectorizer.fit_transform(x_train)\n",
        "        x_test_bow = vectorizer.transform(x_test)\n",
        "\n",
        "        train_df = pd.DataFrame(x_train_bow.toarray())\n",
        "        train_df[\"label\"] = y_train\n",
        "        test_df = pd.DataFrame(x_test_bow.toarray())\n",
        "        test_df[\"label\"] = y_test\n",
        "\n",
        "        # Ensure the models directory exists\n",
        "        os.makedirs(\"models\", exist_ok=True)\n",
        "        pickle.dump(vectorizer, open(\"models/vectorizer.pkl\", \"wb\"))\n",
        "        logger.debug(\"Vectorizer saved successfully to models/vectorizer.pkl\")\n",
        "\n",
        "        return train_df, test_df\n",
        "    except Exception as e:\n",
        "        logger.error(\"Error in Bag-of-Words transformation: %s\", e)\n",
        "        raise\n",
        "\n",
        "def main():\n",
        "    try:\n",
        "        logger.info(\"Starting feature engineering process.\")\n",
        "        params = load_params(\"params.yaml\")\n",
        "        max_features = params[\"feature_engineering\"][\"max_features\"]\n",
        "    except Exception as e:\n",
        "        logger.error(\"Error loading parameters: %s\", e)\n",
        "        return\n",
        "\n",
        "    try:\n",
        "        train = load_data(os.path.join(\"/content\", \"data\", \"interim\", \"train_processed.csv\"))\n",
        "        test = load_data(os.path.join(\"/content\", \"data\", \"interim\", \"test_processed.csv\"))\n",
        "    except Exception as e:\n",
        "        logger.error(\"Error loading data: %s\", e)\n",
        "        return\n",
        "\n",
        "    try:\n",
        "        train_df, test_df = bow(train, test, max_features)\n",
        "        logger.info(\"Bag-of-Words transformation completed successfully.\")\n",
        "        print(\"Training DataFrame:\")\n",
        "        print(train_df.head())  # Replace display with print for standalone scripts\n",
        "        print(\"\\nTesting DataFrame:\")\n",
        "        print(test_df.head())  # Replace display with print for standalone scripts\n",
        "    except Exception as e:\n",
        "        logger.error(\"Error in Bag-of-Words transformation: %s\", e)\n",
        "        return\n",
        "\n",
        "if __name__ == \"__main__\":\n",
        "    main()\n"
      ]
    },
    {
      "cell_type": "code",
      "execution_count": null,
      "metadata": {
        "id": "b1rBpUu0_ovQ"
      },
      "outputs": [],
      "source": [
        "train= pd.read_csv(\"/content/data/interim/train_processed.csv\")\n",
        "test=pd.read_csv(\"/content/data/interim/test_processed.csv\")\n",
        "train.fillna('', inplace=True)\n",
        "test.fillna('', inplace=True)"
      ]
    },
    {
      "cell_type": "code",
      "execution_count": null,
      "metadata": {
        "id": "oMgSYdB8Apgu"
      },
      "outputs": [],
      "source": [
        "x_train= train[\"content\"].values\n",
        "y_train= train[\"sentiment\"].values\n",
        "x_test= test[\"content\"].values\n",
        "y_test= test[\"sentiment\"].values"
      ]
    },
    {
      "cell_type": "code",
      "execution_count": null,
      "metadata": {
        "id": "Cg7PgX6rySkD"
      },
      "outputs": [],
      "source": [
        "from sklearn.feature_extraction.text import CountVectorizer\n",
        "vectorize=CountVectorizer(max_features=500)\n",
        "x_train_bow = vectorize.fit_transform(x_train,)\n",
        "x_test_bow = vectorize.transform(x_test)"
      ]
    },
    {
      "cell_type": "code",
      "execution_count": null,
      "metadata": {
        "id": "9rPPSmJFbiGs"
      },
      "outputs": [],
      "source": [
        "train_df = pd.DataFrame(x_train_bow.toarray())\n",
        "train_df['label'] = y_train\n",
        "test_df = pd.DataFrame(x_test_bow.toarray())\n",
        "test_df['label'] = y_test"
      ]
    },
    {
      "cell_type": "markdown",
      "metadata": {},
      "source": [
        "## **Model Building:**\n",
        "\n"
      ]
    },
    {
      "cell_type": "code",
      "execution_count": 11,
      "metadata": {},
      "outputs": [
        {
          "name": "stdout",
          "output_type": "stream",
          "text": [
            "Accuracy: 0.5859\n",
            "Precision: 0.6902\n",
            "Recall: 0.5859\n",
            "F1 Score: 0.5285\n"
          ]
        },
        {
          "data": {
            "text/markdown": [
              "## Classification Report"
            ],
            "text/plain": [
              "<IPython.core.display.Markdown object>"
            ]
          },
          "metadata": {},
          "output_type": "display_data"
        },
        {
          "name": "stdout",
          "output_type": "stream",
          "text": [
            "              precision    recall  f1-score   support\n",
            "\n",
            "           0       0.54      0.95      0.69      1517\n",
            "           1       0.83      0.24      0.37      1596\n",
            "\n",
            "    accuracy                           0.59      3113\n",
            "   macro avg       0.69      0.59      0.53      3113\n",
            "weighted avg       0.69      0.59      0.53      3113\n",
            "\n"
          ]
        },
        {
          "data": {
            "text/markdown": [
              "## Confusion Matrix"
            ],
            "text/plain": [
              "<IPython.core.display.Markdown object>"
            ]
          },
          "metadata": {},
          "output_type": "display_data"
        },
        {
          "name": "stderr",
          "output_type": "stream",
          "text": [
            "/Users/santoshkumar/Data_science/dvc-pipeline-tweet/venv/lib/python3.12/site-packages/mlflow/types/utils.py:452: UserWarning: Hint: Inferred schema contains integer column(s). Integer columns in Python cannot represent missing values. If your input data contains missing values at inference time, it will be encoded as floats and will cause a schema enforcement error. The best way to avoid this problem is to infer the model schema based on a realistic data sample (training dataset) that includes missing values. Alternatively, you can declare integer columns as doubles (float64) whenever these columns may have missing values. See `Handling Integers With Missing Values <https://www.mlflow.org/docs/latest/models.html#handling-integers-with-missing-values>`_ for more details.\n",
            "  warnings.warn(\n",
            "/Users/santoshkumar/Data_science/dvc-pipeline-tweet/venv/lib/python3.12/site-packages/mlflow/types/utils.py:452: UserWarning: Hint: Inferred schema contains integer column(s). Integer columns in Python cannot represent missing values. If your input data contains missing values at inference time, it will be encoded as floats and will cause a schema enforcement error. The best way to avoid this problem is to infer the model schema based on a realistic data sample (training dataset) that includes missing values. Alternatively, you can declare integer columns as doubles (float64) whenever these columns may have missing values. See `Handling Integers With Missing Values <https://www.mlflow.org/docs/latest/models.html#handling-integers-with-missing-values>`_ for more details.\n",
            "  warnings.warn(\n"
          ]
        },
        {
          "name": "stdout",
          "output_type": "stream",
          "text": [
            "MLflow Run Completed Successfully!\n"
          ]
        },
        {
          "name": "stderr",
          "output_type": "stream",
          "text": [
            "/Users/santoshkumar/Data_science/dvc-pipeline-tweet/venv/lib/python3.12/site-packages/mlflow/types/utils.py:452: UserWarning: Hint: Inferred schema contains integer column(s). Integer columns in Python cannot represent missing values. If your input data contains missing values at inference time, it will be encoded as floats and will cause a schema enforcement error. The best way to avoid this problem is to infer the model schema based on a realistic data sample (training dataset) that includes missing values. Alternatively, you can declare integer columns as doubles (float64) whenever these columns may have missing values. See `Handling Integers With Missing Values <https://www.mlflow.org/docs/latest/models.html#handling-integers-with-missing-values>`_ for more details.\n",
            "  warnings.warn(\n"
          ]
        },
        {
          "data": {
            "image/png": "[encoded data removed]",
            "text/plain": [
              "<Figure size 600x400 with 2 Axes>"
            ]
          },
          "metadata": {},
          "output_type": "display_data"
        }
      ],
      "source": [
        "import pandas as pd\n",
        "import matplotlib.pyplot as plt\n",
        "import seaborn as sns\n",
        "import numpy as np\n",
        "from sklearn.metrics import (\n",
        "    accuracy_score, classification_report, confusion_matrix, \n",
        "    f1_score, precision_score, recall_score\n",
        ")\n",
        "from sklearn.tree import DecisionTreeClassifier\n",
        "import mlflow\n",
        "import mlflow.sklearn\n",
        "import os\n",
        "from datetime import datetime\n",
        "from IPython.display import display, Markdown\n",
        "\n",
        "from mlflow.models import infer_signature\n",
        "\n",
        "\n",
        "# Load Data\n",
        "train_path = \"/Users/santoshkumar/Data_science/dvc-pipeline-tweet/data/processed/train_bow.csv\"\n",
        "test_path = \"/Users/santoshkumar/Data_science/dvc-pipeline-tweet/data/processed/test_bow.csv\"\n",
        "notebook_path = \"/Users/santoshkumar/Data_science/dvc-pipeline-tweet/notebooks/exp1.ipynb\"\n",
        "\n",
        "if not os.path.exists(train_path) or not os.path.exists(test_path):\n",
        "    raise FileNotFoundError(\"Train or test CSV file not found. Check the file paths.\")\n",
        "\n",
        "train_df = pd.read_csv(train_path)\n",
        "test_df = pd.read_csv(test_path)\n",
        "\n",
        "# Split Features and Labels\n",
        "X_train = train_df.drop(columns=[\"label\"])\n",
        "y_train = train_df[\"label\"]\n",
        "X_test = test_df.drop(columns=[\"label\"])\n",
        "y_test = test_df[\"label\"]\n",
        "\n",
        "# Set MLflow Experiment\n",
        "experiment_name = \"tweet_emotion_classification\"\n",
        "experiment = mlflow.get_experiment_by_name(experiment_name)\n",
        "if experiment is None:\n",
        "    mlflow.create_experiment(experiment_name)\n",
        "mlflow.set_experiment(experiment_name)\n",
        "\n",
        "# Start MLflow Run\n",
        "with mlflow.start_run(run_name=f\"DecisionTree_{datetime.now().strftime('%Y-%m-%d_%H-%M-%S')}\"):\n",
        "    # Define Model with Hyperparameters\n",
        "    dt = DecisionTreeClassifier(max_depth=5, criterion='entropy', random_state=42)\n",
        "    \n",
        "    # Train Model\n",
        "    dt.fit(X_train, y_train)\n",
        "    \n",
        "    # Predictions\n",
        "    y_pred = dt.predict(X_test)\n",
        "\n",
        "    # Evaluation Metrics\n",
        "    accuracy = accuracy_score(y_test, y_pred)\n",
        "    precision = precision_score(y_test, y_pred, average='weighted')\n",
        "    recall = recall_score(y_test, y_pred, average='weighted')\n",
        "    f1 = f1_score(y_test, y_pred, average='weighted')\n",
        "    conf_matrix = confusion_matrix(y_test, y_pred, labels=np.unique(y_test))\n",
        "\n",
        "    # Print Metrics\n",
        "    print(f\"Accuracy: {accuracy:.4f}\")\n",
        "    print(f\"Precision: {precision:.4f}\")\n",
        "    print(f\"Recall: {recall:.4f}\")\n",
        "    print(f\"F1 Score: {f1:.4f}\")\n",
        "    \n",
        "    display(Markdown(\"## Classification Report\"))\n",
        "    print(classification_report(y_test, y_pred))\n",
        "\n",
        "    # Confusion Matrix Visualization\n",
        "    display(Markdown(\"## Confusion Matrix\"))\n",
        "    class_labels = np.unique(y_test)  # Dynamically getting labels\n",
        "    # Create a confusion matrix plot\n",
        "    cm = confusion_matrix(y_test, y_pred)\n",
        "    plt.figure(figsize=(6,4))\n",
        "    sns.heatmap(conf_matrix, annot=True, fmt='d', cmap='Blues', xticklabels=class_labels, yticklabels=class_labels)\n",
        "    plt.ylabel('Actual')\n",
        "    plt.xlabel('Predicted')\n",
        "    plt.title('Confusion Matrix')\n",
        "    \n",
        "    # Save the plot as an artifact\n",
        "    plt.savefig(\"confusion_matrix.png\")\n",
        "\n",
        "    # mlflow code\n",
        "    mlflow.log_artifact(\"confusion_matrix.png\")\n",
        "    \n",
        "   \n",
        "\n",
        "    # MLflow Logging\n",
        "    mlflow.log_params({\n",
        "        \"max_depth\": dt.get_params()['max_depth'],\n",
        "        \"criterion\": dt.get_params()['criterion']\n",
        "    })\n",
        "    \n",
        "    mlflow.log_metrics({\n",
        "        \"accuracy\": accuracy,\n",
        "        \"precision\": precision,\n",
        "        \"recall\": recall,\n",
        "        \"f1\": f1\n",
        "    })\n",
        "    \n",
        "    # Log Notebook\n",
        "    mlflow.log_artifact(notebook_path)\n",
        "    \n",
        "    # Log Model\n",
        "    # Create an input example for logging\n",
        "    input_example = X_test.iloc[:1]  # Taking a single row as a sample input\n",
        "    # Infer the model's signature\n",
        "    signature = infer_signature(X_train, dt.predict(X_train))\n",
        "\n",
        "    # Log Model with Signature and Input Example\n",
        "    mlflow.sklearn.log_model(dt, \"decision_tree_model\", signature=signature, input_example=input_example)\n",
        "    \n",
        "    # Log Input Data\n",
        "    mlflow.log_input(mlflow.data.from_pandas(train_df), context=\"training\")\n",
        "    mlflow.log_input(mlflow.data.from_pandas(test_df), context=\"validation\")\n",
        "\n",
        "\n",
        "print(\"MLflow Run Completed Successfully!\")\n"
      ]
    },
    {
      "cell_type": "code",
      "execution_count": null,
      "metadata": {},
      "outputs": [],
      "source": []
    }
  ],
  "metadata": {
    "colab": {
      "provenance": []
    },
    "kernelspec": {
      "display_name": "venv",
      "language": "python",
      "name": "python3"
    },
    "language_info": {
      "codemirror_mode": {
        "name": "ipython",
        "version": 3
      },
      "file_extension": ".py",
      "mimetype": "text/x-python",
      "name": "python",
      "nbconvert_exporter": "python",
      "pygments_lexer": "ipython3",
      "version": "3.12.4"
    }
  },
  "nbformat": 4,
  "nbformat_minor": 0
}
