{
  "nbformat": 4,
  "nbformat_minor": 0,
  "metadata": {
    "colab": {
      "provenance": []
    },
    "kernelspec": {
      "name": "python3",
      "display_name": "Python 3"
    },
    "language_info": {
      "name": "python"
    }
  },
  "cells": [
    {
      "cell_type": "markdown",
      "source": [
        "## **Data Ingestion:**\n",
        "\n"
      ],
      "metadata": {
        "id": "S5_k7E2IRGOg"
      }
    },
    {
      "cell_type": "code",
      "source": [
        "import pandas as pd\n",
        "import numpy as np\n",
        "import os\n",
        "from sklearn.model_selection import train_test_split\n",
        "\n",
        "# Define BASE_FOLDER globally\n",
        "BASE_FOLDER = \"data\"\n",
        "\n",
        "def make_dir():\n",
        "    \"\"\"Creates required directories if they don't exist.\"\"\"\n",
        "    sub_dirs = [\"raw\", \"raw/train\", \"raw/test\"]  # Fixed missing comma\n",
        "    for sub in sub_dirs:\n",
        "        os.makedirs(os.path.join(BASE_FOLDER, sub), exist_ok=True)\n",
        "\n",
        "def load_data(url):\n",
        "    \"\"\"Loads data from the provided URL.\"\"\"\n",
        "    return pd.read_csv(url)\n",
        "\n",
        "def processing(df):\n",
        "    \"\"\"Filters, maps sentiment values, and shuffles data.\"\"\"\n",
        "    return (\n",
        "        df[df[\"sentiment\"].isin([\"happiness\", \"sadness\"])]\n",
        "        .drop(columns=[\"tweet_id\"], errors=\"ignore\")  # Avoid KeyError if column is missing\n",
        "        .assign(sentiment=lambda x: x[\"sentiment\"].map({\"happiness\": 1, \"sadness\": 0}))\n",
        "        .sample(frac=1, random_state=42)  # Shuffle the data\n",
        "    )\n",
        "\n",
        "def save_data(final_df):\n",
        "    \"\"\"Splits data into train and test sets and saves them.\"\"\"\n",
        "    train_df, test_df = train_test_split(final_df, test_size=0.2, random_state=42)\n",
        "\n",
        "    train_df.to_csv(os.path.join(BASE_FOLDER, \"raw/train\", \"train.csv\"), index=False)\n",
        "    test_df.to_csv(os.path.join(BASE_FOLDER, \"raw/test\", \"test.csv\"), index=False)\n",
        "\n",
        "def main():\n",
        "    make_dir()\n",
        "    url = \"https://raw.githubusercontent.com/campusx-official/jupyter-masterclass/main/tweet_emotions.csv\"\n",
        "\n",
        "    df = load_data(url)\n",
        "    final_df = processing(df)\n",
        "    save_data(final_df)\n",
        "\n",
        "if __name__ == \"__main__\":\n",
        "    main()\n"
      ],
      "metadata": {
        "id": "ZAvDnq1Fafg_"
      },
      "execution_count": 22,
      "outputs": []
    },
    {
      "cell_type": "markdown",
      "source": [
        "## **Data cleaning:**"
      ],
      "metadata": {
        "id": "vuy9n-NPRNPH"
      }
    },
    {
      "cell_type": "code",
      "source": [
        "import re\n",
        "# NLTK for natural language processing\n",
        "import nltk\n",
        "from nltk.corpus import stopwords    # For stopwords\n",
        "from nltk.tokenize import word_tokenize # For tokenization\n",
        "from nltk.stem import PorterStemmer, WordNetLemmatizer # For stemming and lemmatization\n",
        "\n",
        "# Downloading NLTK data\n",
        "nltk.download('stopwords')   # Downloading stopwords data\n",
        "nltk.download('punkt')       # Downloading tokenizer data\n",
        "nltk.download('wordnet')     # Downloading WordNet data for lemmatization"
      ],
      "metadata": {
        "colab": {
          "base_uri": "https://localhost:8080/"
        },
        "id": "FaMZdSnguggL",
        "outputId": "41ef6daa-8108-475c-9126-d3f8004f44f9"
      },
      "execution_count": 23,
      "outputs": [
        {
          "output_type": "stream",
          "name": "stderr",
          "text": [
            "[nltk_data] Downloading package stopwords to /root/nltk_data...\n",
            "[nltk_data]   Package stopwords is already up-to-date!\n",
            "[nltk_data] Downloading package punkt to /root/nltk_data...\n",
            "[nltk_data]   Package punkt is already up-to-date!\n",
            "[nltk_data] Downloading package wordnet to /root/nltk_data...\n",
            "[nltk_data]   Package wordnet is already up-to-date!\n"
          ]
        },
        {
          "output_type": "execute_result",
          "data": {
            "text/plain": [
              "True"
            ]
          },
          "metadata": {},
          "execution_count": 23
        }
      ]
    },
    {
      "cell_type": "code",
      "source": [
        "\n",
        "\n",
        "def data_cleaning(text_series):\n",
        "    \"\"\"Cleans the text data by removing URLs, emails, numbers, and punctuation.\"\"\"\n",
        "    number_pattern = r\"(?<=\\D)\\d+|\\d+(?=\\D)\"  # Removes numbers but keeps letters\n",
        "    url_pattern = r\"https?://\\S+|www\\.\\S+\"\n",
        "    email_pattern = r\"\\b[A-Za-z0-9._%+-]+@[A-Za-z0-9.-]+\\.[A-Za-z]{2,}\\b\"\n",
        "    punctuation_pattern = r\"[^\\w\\s]\"\n",
        "\n",
        "    return (\n",
        "        text_series.astype(str)  # Ensure text is string\n",
        "        .str.lower()\n",
        "        .str.replace(url_pattern, \" \", regex=True)\n",
        "        .str.replace(email_pattern, \" \", regex=True)\n",
        "        .str.replace(number_pattern, \" \", regex=True)\n",
        "        .str.replace(punctuation_pattern, \" \", regex=True)\n",
        "        .str.strip()\n",
        "        .str.replace(r\"\\s+\", \" \", regex=True)  # Normalize spaces\n",
        "    )\n",
        "\n",
        "def remove_short_words(text_series, min_length=3):\n",
        "    \"\"\"Removes words shorter than `min_length` characters.\"\"\"\n",
        "    return text_series.apply(lambda x: \" \".join([word for word in x.split() if len(word) >= min_length]))\n",
        "\n",
        "def lemmatization(text_series):\n",
        "    \"\"\"Lemmatizes words using WordNetLemmatizer.\"\"\"\n",
        "    lemmatizer = WordNetLemmatizer()\n",
        "    return text_series.apply(lambda x: \" \".join([lemmatizer.lemmatize(word, pos=\"v\") for word in x.split()]))\n",
        "\n",
        "def remove_stopwords(text_series):\n",
        "    \"\"\"Removes stopwords from text.\"\"\"\n",
        "    stop_words = frozenset(stopwords.words(\"english\"))  # Faster lookup\n",
        "    return text_series.apply(lambda x: \" \".join([word for word in x.split() if word not in stop_words]))\n",
        "\n",
        "def normalize(df):\n",
        "    \"\"\"Applies text preprocessing steps.\"\"\"\n",
        "    df[\"content\"] = data_cleaning(df[\"content\"])\n",
        "    df[\"content\"] = remove_short_words(df[\"content\"])\n",
        "    df[\"content\"] = lemmatization(df[\"content\"])\n",
        "    df[\"content\"] = remove_stopwords(df[\"content\"])\n",
        "    return df\n",
        "\n",
        "def main():\n",
        "    train_data = pd.read_csv(\"/content/data/raw/train/train.csv\")\n",
        "    test_data = pd.read_csv(\"/content/data/raw/test/test.csv\")\n",
        "\n",
        "    # Transform the data\n",
        "    train_processed_data = normalize(train_data)\n",
        "    test_processed_data = normalize(test_data)\n",
        "\n",
        "    # Store the data inside data/processed\n",
        "    data_path = os.path.join(\"./data\", \"interim\")\n",
        "    os.makedirs(data_path, exist_ok=True)\n",
        "\n",
        "    train_processed_data.to_csv(os.path.join(data_path, \"train_processed.csv\"), index=False)\n",
        "    test_processed_data.to_csv(os.path.join(data_path, \"test_processed.csv\"), index=False)\n",
        "\n",
        "\n",
        "if __name__ == \"__main__\":\n",
        "    main()\n"
      ],
      "metadata": {
        "id": "s2HzrgqDTYdA"
      },
      "execution_count": 24,
      "outputs": []
    },
    {
      "cell_type": "markdown",
      "source": [
        "## **Feature Engineering:**"
      ],
      "metadata": {
        "id": "bqvjo-ln_gvT"
      }
    },
    {
      "cell_type": "code",
      "source": [],
      "metadata": {
        "id": "IuqHJGIk5yJW"
      },
      "execution_count": 24,
      "outputs": []
    },
    {
      "cell_type": "code",
      "source": [
        "import pickle\n",
        "import pandas as pd\n",
        "import os\n",
        "import logging\n",
        "import yaml\n",
        "from sklearn.feature_extraction.text import CountVectorizer\n",
        "\n",
        "# Set up logger\n",
        "logger = logging.getLogger(\"feature_engineering\")\n",
        "logger.setLevel(logging.DEBUG)\n",
        "\n",
        "# Remove existing handlers to avoid duplicates\n",
        "if logger.hasHandlers():\n",
        "    logger.handlers.clear()\n",
        "\n",
        "# Define log file path\n",
        "os.makedirs(\"logs\", exist_ok=True)\n",
        "log_file_path = \"logs/feature_engineering.log\"\n",
        "\n",
        "# Delete the log file if it exists\n",
        "if os.path.exists(log_file_path):\n",
        "    os.remove(log_file_path)\n",
        "\n",
        "# FileHandler to log messages to a file\n",
        "file_handler = logging.FileHandler(log_file_path)\n",
        "file_handler.setLevel(logging.DEBUG)\n",
        "\n",
        "# ConsoleHandler to log messages to the console\n",
        "console_handler = logging.StreamHandler()\n",
        "console_handler.setLevel(logging.DEBUG)\n",
        "\n",
        "# Create a formatter and attach it to the handlers\n",
        "formatter = logging.Formatter('%(asctime)s - %(name)s - %(levelname)s - %(message)s')\n",
        "file_handler.setFormatter(formatter)\n",
        "console_handler.setFormatter(formatter)\n",
        "\n",
        "# Add handlers to the logger\n",
        "logger.addHandler(file_handler)\n",
        "logger.addHandler(console_handler)\n",
        "\n",
        "def load_params(params_path: str) -> dict:\n",
        "    \"\"\"Load parameters from a YAML file.\"\"\"\n",
        "    try:\n",
        "        with open(params_path, \"r\") as file:\n",
        "            params = yaml.safe_load(file)\n",
        "            if params is None:\n",
        "                raise ValueError(f\"YAML file {params_path} is empty or invalid.\")\n",
        "        logger.debug(\"Parameters retrieved from %s\", params_path)\n",
        "        return params\n",
        "    except FileNotFoundError:\n",
        "        logger.error(\"File not found: %s\", params_path)\n",
        "        raise\n",
        "    except yaml.YAMLError as e:\n",
        "        logger.error(\"YAML error: %s\", e)\n",
        "        raise\n",
        "    except Exception as e:\n",
        "        logger.error(\"Unexpected error: %s\", e)\n",
        "        raise\n",
        "\n",
        "def load_data(path: str) -> pd.DataFrame:\n",
        "    \"\"\"Load data from a CSV file.\"\"\"\n",
        "    try:\n",
        "        df = pd.read_csv(path)\n",
        "        df.fillna(\"\", inplace=True)\n",
        "        logger.debug(\"Data loaded successfully from %s\", path)\n",
        "        return df\n",
        "    except FileNotFoundError:\n",
        "        logger.error(\"File not found: %s\", path)\n",
        "        raise\n",
        "    except Exception as e:\n",
        "        logger.error(\"Error loading file %s: %s\", path, e)\n",
        "        raise\n",
        "\n",
        "def bow(train: pd.DataFrame, test: pd.DataFrame, max_feature: int):\n",
        "    \"\"\"Perform Bag-of-Words transformation.\"\"\"\n",
        "    try:\n",
        "        x_train = train[\"content\"].values\n",
        "        y_train = train[\"sentiment\"].values\n",
        "        x_test = test[\"content\"].values\n",
        "        y_test = test[\"sentiment\"].values\n",
        "\n",
        "        vectorizer = CountVectorizer(max_features=max_feature)\n",
        "        x_train_bow = vectorizer.fit_transform(x_train)\n",
        "        x_test_bow = vectorizer.transform(x_test)\n",
        "\n",
        "        train_df = pd.DataFrame(x_train_bow.toarray())\n",
        "        train_df[\"label\"] = y_train\n",
        "        test_df = pd.DataFrame(x_test_bow.toarray())\n",
        "        test_df[\"label\"] = y_test\n",
        "\n",
        "        # Ensure the models directory exists\n",
        "        os.makedirs(\"models\", exist_ok=True)\n",
        "        pickle.dump(vectorizer, open(\"models/vectorizer.pkl\", \"wb\"))\n",
        "        logger.debug(\"Vectorizer saved successfully to models/vectorizer.pkl\")\n",
        "\n",
        "        return train_df, test_df\n",
        "    except Exception as e:\n",
        "        logger.error(\"Error in Bag-of-Words transformation: %s\", e)\n",
        "        raise\n",
        "\n",
        "def main():\n",
        "    try:\n",
        "        logger.info(\"Starting feature engineering process.\")\n",
        "        params = load_params(\"params.yaml\")\n",
        "        max_features = params[\"feature_engineering\"][\"max_features\"]\n",
        "    except Exception as e:\n",
        "        logger.error(\"Error loading parameters: %s\", e)\n",
        "        return\n",
        "\n",
        "    try:\n",
        "        train = load_data(os.path.join(\"/content\", \"data\", \"interim\", \"train_processed.csv\"))\n",
        "        test = load_data(os.path.join(\"/content\", \"data\", \"interim\", \"test_processed.csv\"))\n",
        "    except Exception as e:\n",
        "        logger.error(\"Error loading data: %s\", e)\n",
        "        return\n",
        "\n",
        "    try:\n",
        "        train_df, test_df = bow(train, test, max_features)\n",
        "        logger.info(\"Bag-of-Words transformation completed successfully.\")\n",
        "        print(\"Training DataFrame:\")\n",
        "        print(train_df.head())  # Replace display with print for standalone scripts\n",
        "        print(\"\\nTesting DataFrame:\")\n",
        "        print(test_df.head())  # Replace display with print for standalone scripts\n",
        "    except Exception as e:\n",
        "        logger.error(\"Error in Bag-of-Words transformation: %s\", e)\n",
        "        return\n",
        "\n",
        "if __name__ == \"__main__\":\n",
        "    main()\n"
      ],
      "metadata": {
        "colab": {
          "base_uri": "https://localhost:8080/"
        },
        "id": "ks3cIhbicplZ",
        "outputId": "47b6b37c-e0aa-415e-a4cd-3c5a6e64f71a"
      },
      "execution_count": 25,
      "outputs": [
        {
          "output_type": "stream",
          "name": "stderr",
          "text": [
            "2025-02-22 00:13:11,146 - feature_engineering - INFO - Starting feature engineering process.\n",
            "INFO:feature_engineering:Starting feature engineering process.\n",
            "2025-02-22 00:13:11,155 - feature_engineering - DEBUG - Parameters retrieved from params.yaml\n",
            "DEBUG:feature_engineering:Parameters retrieved from params.yaml\n",
            "2025-02-22 00:13:11,169 - feature_engineering - DEBUG - Data loaded successfully from /content/data/interim/train_processed.csv\n",
            "DEBUG:feature_engineering:Data loaded successfully from /content/data/interim/train_processed.csv\n",
            "2025-02-22 00:13:11,176 - feature_engineering - DEBUG - Data loaded successfully from /content/data/interim/test_processed.csv\n",
            "DEBUG:feature_engineering:Data loaded successfully from /content/data/interim/test_processed.csv\n",
            "2025-02-22 00:13:11,480 - feature_engineering - DEBUG - Vectorizer saved successfully to models/vectorizer.pkl\n",
            "DEBUG:feature_engineering:Vectorizer saved successfully to models/vectorizer.pkl\n",
            "2025-02-22 00:13:11,483 - feature_engineering - INFO - Bag-of-Words transformation completed successfully.\n",
            "INFO:feature_engineering:Bag-of-Words transformation completed successfully.\n"
          ]
        },
        {
          "output_type": "stream",
          "name": "stdout",
          "text": [
            "Training DataFrame:\n",
            "   0  1  2  3  4  5  6  7  8  9  ...  4991  4992  4993  4994  4995  4996  \\\n",
            "0  0  0  0  0  0  0  0  0  0  0  ...     0     0     0     0     0     0   \n",
            "1  0  0  0  0  0  0  0  0  0  0  ...     0     0     0     0     0     0   \n",
            "2  0  0  0  0  0  0  0  0  0  0  ...     0     0     0     0     0     0   \n",
            "3  0  0  0  0  0  0  0  0  0  0  ...     0     0     0     0     0     0   \n",
            "4  0  0  0  0  0  0  0  0  0  0  ...     0     0     0     0     0     0   \n",
            "\n",
            "   4997  4998  4999  label  \n",
            "0     0     0     0      1  \n",
            "1     0     0     0      1  \n",
            "2     0     0     0      1  \n",
            "3     0     0     0      1  \n",
            "4     0     0     0      0  \n",
            "\n",
            "[5 rows x 5001 columns]\n",
            "\n",
            "Testing DataFrame:\n",
            "   0  1  2  3  4  5  6  7  8  9  ...  4991  4992  4993  4994  4995  4996  \\\n",
            "0  0  0  0  0  0  0  0  0  0  0  ...     0     0     0     0     0     0   \n",
            "1  0  0  0  0  0  0  0  0  0  0  ...     0     0     0     0     0     0   \n",
            "2  0  0  0  0  0  0  0  0  0  0  ...     0     0     0     0     0     0   \n",
            "3  0  0  0  0  0  0  0  0  0  0  ...     0     0     0     0     0     0   \n",
            "4  0  0  0  0  0  0  0  0  0  0  ...     0     0     0     0     0     0   \n",
            "\n",
            "   4997  4998  4999  label  \n",
            "0     0     0     0      1  \n",
            "1     0     0     0      1  \n",
            "2     0     0     0      1  \n",
            "3     0     0     0      0  \n",
            "4     0     0     0      0  \n",
            "\n",
            "[5 rows x 5001 columns]\n"
          ]
        }
      ]
    },
    {
      "cell_type": "code",
      "source": [
        "train= pd.read_csv(\"/content/data/interim/train_processed.csv\")\n",
        "test=pd.read_csv(\"/content/data/interim/test_processed.csv\")\n",
        "train.fillna('', inplace=True)\n",
        "test.fillna('', inplace=True)"
      ],
      "metadata": {
        "id": "b1rBpUu0_ovQ"
      },
      "execution_count": 26,
      "outputs": []
    },
    {
      "cell_type": "code",
      "source": [
        "x_train= train[\"content\"].values\n",
        "y_train= train[\"sentiment\"].values\n",
        "x_test= test[\"content\"].values\n",
        "y_test= test[\"sentiment\"].values"
      ],
      "metadata": {
        "id": "oMgSYdB8Apgu"
      },
      "execution_count": 27,
      "outputs": []
    },
    {
      "cell_type": "code",
      "source": [
        "from sklearn.feature_extraction.text import CountVectorizer\n",
        "vectorize=CountVectorizer(max_features=500)\n",
        "x_train_bow = vectorize.fit_transform(x_train,)\n",
        "x_test_bow = vectorize.transform(x_test)"
      ],
      "metadata": {
        "id": "Cg7PgX6rySkD"
      },
      "execution_count": 28,
      "outputs": []
    },
    {
      "cell_type": "code",
      "source": [
        "train_df = pd.DataFrame(x_train_bow.toarray())\n",
        "train_df['label'] = y_train\n",
        "test_df = pd.DataFrame(x_test_bow.toarray())\n",
        "test_df['label'] = y_test"
      ],
      "metadata": {
        "id": "9rPPSmJFbiGs"
      },
      "execution_count": 29,
      "outputs": []
    }
  ]
}