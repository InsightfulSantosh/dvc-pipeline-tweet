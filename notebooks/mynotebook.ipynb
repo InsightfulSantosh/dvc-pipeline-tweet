{
  "nbformat": 4,
  "nbformat_minor": 0,
  "metadata": {
    "colab": {
      "provenance": []
    },
    "kernelspec": {
      "name": "python3",
      "display_name": "Python 3"
    },
    "language_info": {
      "name": "python"
    }
  },
  "cells": [
    {
      "cell_type": "markdown",
      "source": [
        "## **Data Ingestion:**\n",
        "\n"
      ],
      "metadata": {
        "id": "S5_k7E2IRGOg"
      }
    },
    {
      "cell_type": "code",
      "source": [
        "import pandas as pd\n",
        "import numpy as np\n",
        "import os\n",
        "from sklearn.model_selection import train_test_split\n",
        "\n",
        "# Define BASE_FOLDER globally\n",
        "BASE_FOLDER = \"data\"\n",
        "\n",
        "def make_dir():\n",
        "    \"\"\"Creates required directories if they don't exist.\"\"\"\n",
        "    sub_dirs = [\"raw\", \"raw/train\", \"raw/test\"]  # Fixed missing comma\n",
        "    for sub in sub_dirs:\n",
        "        os.makedirs(os.path.join(BASE_FOLDER, sub), exist_ok=True)\n",
        "\n",
        "def load_data(url):\n",
        "    \"\"\"Loads data from the provided URL.\"\"\"\n",
        "    return pd.read_csv(url)\n",
        "\n",
        "def processing(df):\n",
        "    \"\"\"Filters, maps sentiment values, and shuffles data.\"\"\"\n",
        "    return (\n",
        "        df[df[\"sentiment\"].isin([\"happiness\", \"sadness\"])]\n",
        "        .drop(columns=[\"tweet_id\"], errors=\"ignore\")  # Avoid KeyError if column is missing\n",
        "        .assign(sentiment=lambda x: x[\"sentiment\"].map({\"happiness\": 1, \"sadness\": 0}))\n",
        "        .sample(frac=1, random_state=42)  # Shuffle the data\n",
        "    )\n",
        "\n",
        "def save_data(final_df):\n",
        "    \"\"\"Splits data into train and test sets and saves them.\"\"\"\n",
        "    train_df, test_df = train_test_split(final_df, test_size=0.2, random_state=42)\n",
        "\n",
        "    train_df.to_csv(os.path.join(BASE_FOLDER, \"raw/train\", \"train.csv\"), index=False)\n",
        "    test_df.to_csv(os.path.join(BASE_FOLDER, \"raw/test\", \"test.csv\"), index=False)\n",
        "\n",
        "def main():\n",
        "    make_dir()\n",
        "    url = \"https://raw.githubusercontent.com/campusx-official/jupyter-masterclass/main/tweet_emotions.csv\"\n",
        "\n",
        "    df = load_data(url)\n",
        "    final_df = processing(df)\n",
        "    save_data(final_df)\n",
        "\n",
        "if __name__ == \"__main__\":\n",
        "    main()\n"
      ],
      "metadata": {
        "id": "ZAvDnq1Fafg_"
      },
      "execution_count": 1,
      "outputs": []
    },
    {
      "cell_type": "markdown",
      "source": [
        "## **Data cleaning:**"
      ],
      "metadata": {
        "id": "vuy9n-NPRNPH"
      }
    },
    {
      "cell_type": "code",
      "source": [
        "import re\n",
        "# NLTK for natural language processing\n",
        "import nltk\n",
        "from nltk.corpus import stopwords    # For stopwords\n",
        "from nltk.tokenize import word_tokenize # For tokenization\n",
        "from nltk.stem import PorterStemmer, WordNetLemmatizer # For stemming and lemmatization\n",
        "\n",
        "# Downloading NLTK data\n",
        "nltk.download('stopwords')   # Downloading stopwords data\n",
        "nltk.download('punkt')       # Downloading tokenizer data\n",
        "nltk.download('wordnet')     # Downloading WordNet data for lemmatization"
      ],
      "metadata": {
        "colab": {
          "base_uri": "https://localhost:8080/"
        },
        "id": "FaMZdSnguggL",
        "outputId": "c88e003d-fd97-4561-9fba-2a45bb392696"
      },
      "execution_count": 2,
      "outputs": [
        {
          "output_type": "stream",
          "name": "stderr",
          "text": [
            "[nltk_data] Downloading package stopwords to /root/nltk_data...\n",
            "[nltk_data]   Unzipping corpora/stopwords.zip.\n",
            "[nltk_data] Downloading package punkt to /root/nltk_data...\n",
            "[nltk_data]   Unzipping tokenizers/punkt.zip.\n",
            "[nltk_data] Downloading package wordnet to /root/nltk_data...\n"
          ]
        },
        {
          "output_type": "execute_result",
          "data": {
            "text/plain": [
              "True"
            ]
          },
          "metadata": {},
          "execution_count": 2
        }
      ]
    },
    {
      "cell_type": "code",
      "source": [
        "\n",
        "\n",
        "def data_cleaning(text_series):\n",
        "    \"\"\"Cleans the text data by removing URLs, emails, numbers, and punctuation.\"\"\"\n",
        "    number_pattern = r\"(?<=\\D)\\d+|\\d+(?=\\D)\"  # Removes numbers but keeps letters\n",
        "    url_pattern = r\"https?://\\S+|www\\.\\S+\"\n",
        "    email_pattern = r\"\\b[A-Za-z0-9._%+-]+@[A-Za-z0-9.-]+\\.[A-Za-z]{2,}\\b\"\n",
        "    punctuation_pattern = r\"[^\\w\\s]\"\n",
        "\n",
        "    return (\n",
        "        text_series.astype(str)  # Ensure text is string\n",
        "        .str.lower()\n",
        "        .str.replace(url_pattern, \" \", regex=True)\n",
        "        .str.replace(email_pattern, \" \", regex=True)\n",
        "        .str.replace(number_pattern, \" \", regex=True)\n",
        "        .str.replace(punctuation_pattern, \" \", regex=True)\n",
        "        .str.strip()\n",
        "        .str.replace(r\"\\s+\", \" \", regex=True)  # Normalize spaces\n",
        "    )\n",
        "\n",
        "def remove_short_words(text_series, min_length=3):\n",
        "    \"\"\"Removes words shorter than `min_length` characters.\"\"\"\n",
        "    return text_series.apply(lambda x: \" \".join([word for word in x.split() if len(word) >= min_length]))\n",
        "\n",
        "def lemmatization(text_series):\n",
        "    \"\"\"Lemmatizes words using WordNetLemmatizer.\"\"\"\n",
        "    lemmatizer = WordNetLemmatizer()\n",
        "    return text_series.apply(lambda x: \" \".join([lemmatizer.lemmatize(word, pos=\"v\") for word in x.split()]))\n",
        "\n",
        "def remove_stopwords(text_series):\n",
        "    \"\"\"Removes stopwords from text.\"\"\"\n",
        "    stop_words = frozenset(stopwords.words(\"english\"))  # Faster lookup\n",
        "    return text_series.apply(lambda x: \" \".join([word for word in x.split() if word not in stop_words]))\n",
        "\n",
        "def normalize(df):\n",
        "    \"\"\"Applies text preprocessing steps.\"\"\"\n",
        "    df[\"content\"] = data_cleaning(df[\"content\"])\n",
        "    df[\"content\"] = remove_short_words(df[\"content\"])\n",
        "    df[\"content\"] = lemmatization(df[\"content\"])\n",
        "    df[\"content\"] = remove_stopwords(df[\"content\"])\n",
        "    return df\n",
        "\n",
        "def main():\n",
        "    train_data = pd.read_csv(\"/content/data/raw/train/train.csv\")\n",
        "    test_data = pd.read_csv(\"/content/data/raw/test/test.csv\")\n",
        "\n",
        "    # Transform the data\n",
        "    train_processed_data = normalize(train_data)\n",
        "    test_processed_data = normalize(test_data)\n",
        "\n",
        "    # Store the data inside data/processed\n",
        "    data_path = os.path.join(\"./data\", \"interim\")\n",
        "    os.makedirs(data_path, exist_ok=True)\n",
        "\n",
        "    train_processed_data.to_csv(os.path.join(data_path, \"train_processed.csv\"), index=False)\n",
        "    test_processed_data.to_csv(os.path.join(data_path, \"test_processed.csv\"), index=False)\n",
        "\n",
        "\n",
        "if __name__ == \"__main__\":\n",
        "    main()\n"
      ],
      "metadata": {
        "id": "s2HzrgqDTYdA"
      },
      "execution_count": 8,
      "outputs": []
    }
  ]
}